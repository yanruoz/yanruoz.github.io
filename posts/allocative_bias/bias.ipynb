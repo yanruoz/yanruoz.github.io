{
 "cells": [
  {
   "cell_type": "raw",
   "id": "20bf8069-076e-4bea-bc55-b51f80909c09",
   "metadata": {},
   "source": [
    "---\n",
    "title: Auditing Allocative Bias\n",
    "author: Alice (Yanruo) Zhang\n",
    "date: '2023-05-17'\n",
    "image: \"hands.jpg\"\n",
    "description: \"In this blog post, I used the random forest model to predict employment status based on demographic characteristics excluding race. Then, I performed a fairness audit to assess whether my algorithm displays bias with respect to race.\"\n",
    "format: html\n",
    "---"
   ]
  },
  {
   "cell_type": "code",
   "execution_count": 2,
   "id": "7b48f51b-6030-4980-8090-0823e7b9c847",
   "metadata": {},
   "outputs": [],
   "source": [
    "%load_ext autoreload\n",
    "%autoreload 2"
   ]
  },
  {
   "cell_type": "code",
   "execution_count": 186,
   "id": "d45acca7-ddfa-40cf-bca7-593c31f8f0c3",
   "metadata": {},
   "outputs": [],
   "source": [
    "# import\n",
    "from folktables import ACSDataSource, ACSEmployment, BasicProblem, adult_filter\n",
    "import numpy as np\n",
    "from sklearn.linear_model import LogisticRegression\n",
    "from sklearn.pipeline import make_pipeline\n",
    "from sklearn.preprocessing import StandardScaler\n",
    "from sklearn.metrics import confusion_matrix\n",
    "import seaborn as sns\n",
    "from sklearn.model_selection import train_test_split\n",
    "import pandas as pd\n",
    "from sklearn.model_selection import cross_val_score\n",
    "from sklearn.ensemble import RandomForestClassifier\n",
    "import matplotlib.pyplot as plt\n",
    "from sklearn.metrics import confusion_matrix"
   ]
  },
  {
   "cell_type": "markdown",
   "id": "3a73f59a-37d6-4c28-b155-34d88433adb1",
   "metadata": {},
   "source": [
    "## Introduction\n",
    "In this blog post, I will train a random forest model to predict employment status based on demographic characteristics excluding race. Then, to see whether my algorithm displays bias with respect to race, I will perform a fairness audit and discuss its results."
   ]
  },
  {
   "cell_type": "markdown",
   "id": "36487372-c20f-49f4-8372-1aede35fd16a",
   "metadata": {},
   "source": [
    "## Data Preparation"
   ]
  },
  {
   "cell_type": "markdown",
   "id": "a372d0d2-6105-4ce9-9573-71c648365e0b",
   "metadata": {},
   "source": [
    "The data I used is the PUMS data for Massachusetts in 2018. I firstly examined the data, and then selected possible features for training, excluding race for later bias audit and employment status which is the predicting target. After splitting the training and testing datasets, I turned the training data back to data frame to facilitate further manipulation."
   ]
  },
  {
   "cell_type": "code",
   "execution_count": 120,
   "id": "462e5304-91c5-4b92-b88b-f8610dad62ce",
   "metadata": {},
   "outputs": [
    {
     "data": {
      "text/html": [
       "<div>\n",
       "<style scoped>\n",
       "    .dataframe tbody tr th:only-of-type {\n",
       "        vertical-align: middle;\n",
       "    }\n",
       "\n",
       "    .dataframe tbody tr th {\n",
       "        vertical-align: top;\n",
       "    }\n",
       "\n",
       "    .dataframe thead th {\n",
       "        text-align: right;\n",
       "    }\n",
       "</style>\n",
       "<table border=\"1\" class=\"dataframe\">\n",
       "  <thead>\n",
       "    <tr style=\"text-align: right;\">\n",
       "      <th></th>\n",
       "      <th>RT</th>\n",
       "      <th>SERIALNO</th>\n",
       "      <th>DIVISION</th>\n",
       "      <th>SPORDER</th>\n",
       "      <th>PUMA</th>\n",
       "      <th>REGION</th>\n",
       "      <th>ST</th>\n",
       "      <th>ADJINC</th>\n",
       "      <th>PWGTP</th>\n",
       "      <th>AGEP</th>\n",
       "      <th>...</th>\n",
       "      <th>PWGTP71</th>\n",
       "      <th>PWGTP72</th>\n",
       "      <th>PWGTP73</th>\n",
       "      <th>PWGTP74</th>\n",
       "      <th>PWGTP75</th>\n",
       "      <th>PWGTP76</th>\n",
       "      <th>PWGTP77</th>\n",
       "      <th>PWGTP78</th>\n",
       "      <th>PWGTP79</th>\n",
       "      <th>PWGTP80</th>\n",
       "    </tr>\n",
       "  </thead>\n",
       "  <tbody>\n",
       "    <tr>\n",
       "      <th>0</th>\n",
       "      <td>P</td>\n",
       "      <td>2018GQ0000024</td>\n",
       "      <td>1</td>\n",
       "      <td>1</td>\n",
       "      <td>3301</td>\n",
       "      <td>1</td>\n",
       "      <td>25</td>\n",
       "      <td>1013097</td>\n",
       "      <td>47</td>\n",
       "      <td>77</td>\n",
       "      <td>...</td>\n",
       "      <td>47</td>\n",
       "      <td>46</td>\n",
       "      <td>4</td>\n",
       "      <td>92</td>\n",
       "      <td>46</td>\n",
       "      <td>50</td>\n",
       "      <td>49</td>\n",
       "      <td>4</td>\n",
       "      <td>89</td>\n",
       "      <td>4</td>\n",
       "    </tr>\n",
       "    <tr>\n",
       "      <th>1</th>\n",
       "      <td>P</td>\n",
       "      <td>2018GQ0000063</td>\n",
       "      <td>1</td>\n",
       "      <td>1</td>\n",
       "      <td>1600</td>\n",
       "      <td>1</td>\n",
       "      <td>25</td>\n",
       "      <td>1013097</td>\n",
       "      <td>16</td>\n",
       "      <td>18</td>\n",
       "      <td>...</td>\n",
       "      <td>33</td>\n",
       "      <td>30</td>\n",
       "      <td>16</td>\n",
       "      <td>16</td>\n",
       "      <td>18</td>\n",
       "      <td>2</td>\n",
       "      <td>18</td>\n",
       "      <td>31</td>\n",
       "      <td>16</td>\n",
       "      <td>15</td>\n",
       "    </tr>\n",
       "    <tr>\n",
       "      <th>2</th>\n",
       "      <td>P</td>\n",
       "      <td>2018GQ0000075</td>\n",
       "      <td>1</td>\n",
       "      <td>1</td>\n",
       "      <td>703</td>\n",
       "      <td>1</td>\n",
       "      <td>25</td>\n",
       "      <td>1013097</td>\n",
       "      <td>60</td>\n",
       "      <td>28</td>\n",
       "      <td>...</td>\n",
       "      <td>110</td>\n",
       "      <td>116</td>\n",
       "      <td>57</td>\n",
       "      <td>8</td>\n",
       "      <td>60</td>\n",
       "      <td>107</td>\n",
       "      <td>60</td>\n",
       "      <td>62</td>\n",
       "      <td>109</td>\n",
       "      <td>110</td>\n",
       "    </tr>\n",
       "    <tr>\n",
       "      <th>3</th>\n",
       "      <td>P</td>\n",
       "      <td>2018GQ0000088</td>\n",
       "      <td>1</td>\n",
       "      <td>1</td>\n",
       "      <td>3301</td>\n",
       "      <td>1</td>\n",
       "      <td>25</td>\n",
       "      <td>1013097</td>\n",
       "      <td>72</td>\n",
       "      <td>22</td>\n",
       "      <td>...</td>\n",
       "      <td>71</td>\n",
       "      <td>74</td>\n",
       "      <td>10</td>\n",
       "      <td>10</td>\n",
       "      <td>129</td>\n",
       "      <td>128</td>\n",
       "      <td>10</td>\n",
       "      <td>73</td>\n",
       "      <td>128</td>\n",
       "      <td>70</td>\n",
       "    </tr>\n",
       "    <tr>\n",
       "      <th>4</th>\n",
       "      <td>P</td>\n",
       "      <td>2018GQ0000098</td>\n",
       "      <td>1</td>\n",
       "      <td>1</td>\n",
       "      <td>701</td>\n",
       "      <td>1</td>\n",
       "      <td>25</td>\n",
       "      <td>1013097</td>\n",
       "      <td>21</td>\n",
       "      <td>50</td>\n",
       "      <td>...</td>\n",
       "      <td>37</td>\n",
       "      <td>18</td>\n",
       "      <td>24</td>\n",
       "      <td>0</td>\n",
       "      <td>39</td>\n",
       "      <td>19</td>\n",
       "      <td>20</td>\n",
       "      <td>39</td>\n",
       "      <td>19</td>\n",
       "      <td>36</td>\n",
       "    </tr>\n",
       "  </tbody>\n",
       "</table>\n",
       "<p>5 rows × 286 columns</p>\n",
       "</div>"
      ],
      "text/plain": [
       "  RT       SERIALNO  DIVISION  SPORDER  PUMA  REGION  ST   ADJINC  PWGTP  \\\n",
       "0  P  2018GQ0000024         1        1  3301       1  25  1013097     47   \n",
       "1  P  2018GQ0000063         1        1  1600       1  25  1013097     16   \n",
       "2  P  2018GQ0000075         1        1   703       1  25  1013097     60   \n",
       "3  P  2018GQ0000088         1        1  3301       1  25  1013097     72   \n",
       "4  P  2018GQ0000098         1        1   701       1  25  1013097     21   \n",
       "\n",
       "   AGEP  ...  PWGTP71  PWGTP72  PWGTP73  PWGTP74  PWGTP75  PWGTP76  PWGTP77  \\\n",
       "0    77  ...       47       46        4       92       46       50       49   \n",
       "1    18  ...       33       30       16       16       18        2       18   \n",
       "2    28  ...      110      116       57        8       60      107       60   \n",
       "3    22  ...       71       74       10       10      129      128       10   \n",
       "4    50  ...       37       18       24        0       39       19       20   \n",
       "\n",
       "   PWGTP78  PWGTP79  PWGTP80  \n",
       "0        4       89        4  \n",
       "1       31       16       15  \n",
       "2       62      109      110  \n",
       "3       73      128       70  \n",
       "4       39       19       36  \n",
       "\n",
       "[5 rows x 286 columns]"
      ]
     },
     "execution_count": 120,
     "metadata": {},
     "output_type": "execute_result"
    }
   ],
   "source": [
    "# download the PUMS data for the state of MA\n",
    "STATE = \"MA\"\n",
    "\n",
    "data_source = ACSDataSource(survey_year='2018', \n",
    "                            horizon='1-Year', \n",
    "                            survey='person')\n",
    "\n",
    "acs_data = data_source.get_data(states=[STATE], download=True)\n",
    "\n",
    "acs_data.head()"
   ]
  },
  {
   "cell_type": "code",
   "execution_count": 121,
   "id": "9bff0263-24fd-4fd3-a4ca-098b57871898",
   "metadata": {},
   "outputs": [
    {
     "data": {
      "text/html": [
       "<div>\n",
       "<style scoped>\n",
       "    .dataframe tbody tr th:only-of-type {\n",
       "        vertical-align: middle;\n",
       "    }\n",
       "\n",
       "    .dataframe tbody tr th {\n",
       "        vertical-align: top;\n",
       "    }\n",
       "\n",
       "    .dataframe thead th {\n",
       "        text-align: right;\n",
       "    }\n",
       "</style>\n",
       "<table border=\"1\" class=\"dataframe\">\n",
       "  <thead>\n",
       "    <tr style=\"text-align: right;\">\n",
       "      <th></th>\n",
       "      <th>AGEP</th>\n",
       "      <th>SCHL</th>\n",
       "      <th>MAR</th>\n",
       "      <th>RELP</th>\n",
       "      <th>DIS</th>\n",
       "      <th>ESP</th>\n",
       "      <th>CIT</th>\n",
       "      <th>MIG</th>\n",
       "      <th>MIL</th>\n",
       "      <th>ANC</th>\n",
       "      <th>NATIVITY</th>\n",
       "      <th>DEAR</th>\n",
       "      <th>DEYE</th>\n",
       "      <th>DREM</th>\n",
       "      <th>SEX</th>\n",
       "      <th>RAC1P</th>\n",
       "      <th>ESR</th>\n",
       "    </tr>\n",
       "  </thead>\n",
       "  <tbody>\n",
       "    <tr>\n",
       "      <th>0</th>\n",
       "      <td>77</td>\n",
       "      <td>19.0</td>\n",
       "      <td>3</td>\n",
       "      <td>16</td>\n",
       "      <td>2</td>\n",
       "      <td>NaN</td>\n",
       "      <td>1</td>\n",
       "      <td>3.0</td>\n",
       "      <td>4.0</td>\n",
       "      <td>1</td>\n",
       "      <td>1</td>\n",
       "      <td>2</td>\n",
       "      <td>2</td>\n",
       "      <td>2.0</td>\n",
       "      <td>2</td>\n",
       "      <td>1</td>\n",
       "      <td>6.0</td>\n",
       "    </tr>\n",
       "    <tr>\n",
       "      <th>1</th>\n",
       "      <td>18</td>\n",
       "      <td>18.0</td>\n",
       "      <td>5</td>\n",
       "      <td>17</td>\n",
       "      <td>2</td>\n",
       "      <td>NaN</td>\n",
       "      <td>1</td>\n",
       "      <td>1.0</td>\n",
       "      <td>4.0</td>\n",
       "      <td>2</td>\n",
       "      <td>1</td>\n",
       "      <td>2</td>\n",
       "      <td>2</td>\n",
       "      <td>2.0</td>\n",
       "      <td>2</td>\n",
       "      <td>9</td>\n",
       "      <td>1.0</td>\n",
       "    </tr>\n",
       "    <tr>\n",
       "      <th>2</th>\n",
       "      <td>28</td>\n",
       "      <td>21.0</td>\n",
       "      <td>5</td>\n",
       "      <td>17</td>\n",
       "      <td>2</td>\n",
       "      <td>NaN</td>\n",
       "      <td>1</td>\n",
       "      <td>1.0</td>\n",
       "      <td>4.0</td>\n",
       "      <td>2</td>\n",
       "      <td>1</td>\n",
       "      <td>2</td>\n",
       "      <td>2</td>\n",
       "      <td>2.0</td>\n",
       "      <td>1</td>\n",
       "      <td>1</td>\n",
       "      <td>1.0</td>\n",
       "    </tr>\n",
       "    <tr>\n",
       "      <th>3</th>\n",
       "      <td>22</td>\n",
       "      <td>19.0</td>\n",
       "      <td>5</td>\n",
       "      <td>17</td>\n",
       "      <td>2</td>\n",
       "      <td>NaN</td>\n",
       "      <td>1</td>\n",
       "      <td>1.0</td>\n",
       "      <td>4.0</td>\n",
       "      <td>1</td>\n",
       "      <td>1</td>\n",
       "      <td>2</td>\n",
       "      <td>2</td>\n",
       "      <td>2.0</td>\n",
       "      <td>1</td>\n",
       "      <td>1</td>\n",
       "      <td>6.0</td>\n",
       "    </tr>\n",
       "    <tr>\n",
       "      <th>4</th>\n",
       "      <td>50</td>\n",
       "      <td>1.0</td>\n",
       "      <td>5</td>\n",
       "      <td>17</td>\n",
       "      <td>1</td>\n",
       "      <td>NaN</td>\n",
       "      <td>1</td>\n",
       "      <td>1.0</td>\n",
       "      <td>4.0</td>\n",
       "      <td>1</td>\n",
       "      <td>1</td>\n",
       "      <td>2</td>\n",
       "      <td>1</td>\n",
       "      <td>1.0</td>\n",
       "      <td>2</td>\n",
       "      <td>1</td>\n",
       "      <td>6.0</td>\n",
       "    </tr>\n",
       "  </tbody>\n",
       "</table>\n",
       "</div>"
      ],
      "text/plain": [
       "   AGEP  SCHL  MAR  RELP  DIS  ESP  CIT  MIG  MIL  ANC  NATIVITY  DEAR  DEYE  \\\n",
       "0    77  19.0    3    16    2  NaN    1  3.0  4.0    1         1     2     2   \n",
       "1    18  18.0    5    17    2  NaN    1  1.0  4.0    2         1     2     2   \n",
       "2    28  21.0    5    17    2  NaN    1  1.0  4.0    2         1     2     2   \n",
       "3    22  19.0    5    17    2  NaN    1  1.0  4.0    1         1     2     2   \n",
       "4    50   1.0    5    17    1  NaN    1  1.0  4.0    1         1     2     1   \n",
       "\n",
       "   DREM  SEX  RAC1P  ESR  \n",
       "0   2.0    2      1  6.0  \n",
       "1   2.0    2      9  1.0  \n",
       "2   2.0    1      1  1.0  \n",
       "3   2.0    1      1  6.0  \n",
       "4   1.0    2      1  6.0  "
      ]
     },
     "execution_count": 121,
     "metadata": {},
     "output_type": "execute_result"
    }
   ],
   "source": [
    "# focus on possible features and examine them\n",
    "possible_features=['AGEP', 'SCHL', 'MAR', 'RELP', 'DIS', 'ESP', 'CIT', 'MIG', 'MIL', 'ANC', 'NATIVITY', 'DEAR', 'DEYE', 'DREM', 'SEX', 'RAC1P', 'ESR']\n",
    "acs_data[possible_features].head()"
   ]
  },
  {
   "cell_type": "code",
   "execution_count": 122,
   "id": "4d9bb05f-a3d9-4494-ad74-35941932683c",
   "metadata": {},
   "outputs": [],
   "source": [
    "# exclude ESR (employment status) and RAC1P (race)\n",
    "features_to_use = [f for f in possible_features if f not in [\"ESR\", \"RAC1P\"]]"
   ]
  },
  {
   "cell_type": "code",
   "execution_count": 123,
   "id": "e48ffa74-ab0f-442c-8fd0-c94dccdcd032",
   "metadata": {},
   "outputs": [],
   "source": [
    "# construct a BasicProblem that expresses our wish to use these features to predict employment status ESR\n",
    "# using the race RAC1P as the group label\n",
    "EmploymentProblem = BasicProblem(\n",
    "    features=features_to_use,\n",
    "    target='ESR',\n",
    "    target_transform=lambda x: x == 1,\n",
    "    group='RAC1P',\n",
    "    preprocess=lambda x: x,\n",
    "    postprocess=lambda x: np.nan_to_num(x, -1),\n",
    ")\n",
    "\n",
    "features, label, group = EmploymentProblem.df_to_numpy(acs_data)"
   ]
  },
  {
   "cell_type": "code",
   "execution_count": 124,
   "id": "3bfea56c-a09a-4db7-9bef-e56aea2447d2",
   "metadata": {},
   "outputs": [],
   "source": [
    "# train-test split\n",
    "X_train, X_test, y_train, y_test, group_train, group_test = train_test_split(\n",
    "    features, label, group, test_size=0.2, random_state=0)"
   ]
  },
  {
   "cell_type": "code",
   "execution_count": 129,
   "id": "7dbb003d-0301-4a6b-ac4f-7f5aaa347875",
   "metadata": {},
   "outputs": [],
   "source": [
    "# turn training data back to data frame\n",
    "df = pd.DataFrame(X_train, columns = features_to_use)\n",
    "df[\"group\"] = group_train\n",
    "df[\"label\"] = y_train"
   ]
  },
  {
   "cell_type": "markdown",
   "id": "6841e66d-f6f4-4f1c-b271-3bbc0b3f3e3f",
   "metadata": {},
   "source": [
    "## Basic Descriptives\n",
    "Before conducting any training, I first explored the basic descriptives of the training dataset, a summary of which is at the end of this section. The race in this dataset is categroized into 9 groups; while the rest of the code and explanation will mainly refer to each group by number, here is whay they represent:\n",
    "\n",
    "    Group 1: White alone\n",
    "    Group 2: Black or African American alone\n",
    "    Group 3: American Indian alone\n",
    "    Group 4: Alaska Native alone\n",
    "    Group 5: American Indian and Alaska Native tribes specified, or American Indian or Alaska Native, not specified and no other races\n",
    "    Group 6: Asian alone\n",
    "    Group 7: Native Hawaiian and Other Pacific Islander alone\n",
    "    Group 8:  Some Other Race alone\n",
    "    Group 9: Two or More Races\n",
    "\n",
    "While I conducted analysis for all of these groups, I will focus on the results of group 1, 2, and 6, which are white, black, and asian alone respectively.<br>\n",
    "\n",
    "We firstly examined the number of total individuals in the dataset and the overall employment status count."
   ]
  },
  {
   "cell_type": "code",
   "execution_count": 132,
   "id": "d47426a0-4467-4068-9f47-51e822db2277",
   "metadata": {},
   "outputs": [
    {
     "data": {
      "text/plain": [
       "56104"
      ]
     },
     "execution_count": 132,
     "metadata": {},
     "output_type": "execute_result"
    }
   ],
   "source": [
    "# how many individuals\n",
    "len(df)"
   ]
  },
  {
   "cell_type": "code",
   "execution_count": 133,
   "id": "3197b874-21cf-439a-b5ae-7b2ace383393",
   "metadata": {},
   "outputs": [
    {
     "data": {
      "text/plain": [
       "label\n",
       "False    27733\n",
       "True     28371\n",
       "dtype: int64"
      ]
     },
     "execution_count": 133,
     "metadata": {},
     "output_type": "execute_result"
    }
   ],
   "source": [
    "# how many are employed (label = 1)\n",
    "df.groupby(\"label\").size()"
   ]
  },
  {
   "cell_type": "code",
   "execution_count": 249,
   "id": "98b082f2-26f8-4314-b4f3-20b00937ddeb",
   "metadata": {},
   "outputs": [
    {
     "name": "stdout",
     "output_type": "stream",
     "text": [
      "proportion_employed = 0.5056858691002424\n"
     ]
    }
   ],
   "source": [
    "proportion_employed = 28371/56104\n",
    "print(f\"{proportion_employed = }\")"
   ]
  },
  {
   "cell_type": "markdown",
   "id": "cde7fe3e-2899-4189-8c1f-6847c59acdcd",
   "metadata": {},
   "source": [
    "Then, we examined the count and percentage for each group ."
   ]
  },
  {
   "cell_type": "code",
   "execution_count": 211,
   "id": "90688939-9895-4688-946c-12fb48014786",
   "metadata": {},
   "outputs": [
    {
     "data": {
      "text/plain": [
       "group\n",
       "1    45515\n",
       "2     3405\n",
       "3       66\n",
       "4        1\n",
       "5       24\n",
       "6     3778\n",
       "7       24\n",
       "8     1698\n",
       "9     1593\n",
       "dtype: int64"
      ]
     },
     "execution_count": 211,
     "metadata": {},
     "output_type": "execute_result"
    }
   ],
   "source": [
    "# how many are in each racial group\n",
    "df.groupby(\"group\").size()"
   ]
  },
  {
   "cell_type": "code",
   "execution_count": 144,
   "id": "e20c8695-f8fc-4fd0-ad7b-3cd97dce43ea",
   "metadata": {},
   "outputs": [
    {
     "data": {
      "text/html": [
       "<div>\n",
       "<style scoped>\n",
       "    .dataframe tbody tr th:only-of-type {\n",
       "        vertical-align: middle;\n",
       "    }\n",
       "\n",
       "    .dataframe tbody tr th {\n",
       "        vertical-align: top;\n",
       "    }\n",
       "\n",
       "    .dataframe thead th {\n",
       "        text-align: right;\n",
       "    }\n",
       "</style>\n",
       "<table border=\"1\" class=\"dataframe\">\n",
       "  <thead>\n",
       "    <tr style=\"text-align: right;\">\n",
       "      <th></th>\n",
       "      <th>group</th>\n",
       "      <th>label</th>\n",
       "    </tr>\n",
       "  </thead>\n",
       "  <tbody>\n",
       "    <tr>\n",
       "      <th>0</th>\n",
       "      <td>1</td>\n",
       "      <td>0.514556</td>\n",
       "    </tr>\n",
       "    <tr>\n",
       "      <th>1</th>\n",
       "      <td>2</td>\n",
       "      <td>0.456681</td>\n",
       "    </tr>\n",
       "    <tr>\n",
       "      <th>2</th>\n",
       "      <td>3</td>\n",
       "      <td>0.500000</td>\n",
       "    </tr>\n",
       "    <tr>\n",
       "      <th>3</th>\n",
       "      <td>4</td>\n",
       "      <td>1.000000</td>\n",
       "    </tr>\n",
       "    <tr>\n",
       "      <th>4</th>\n",
       "      <td>5</td>\n",
       "      <td>0.500000</td>\n",
       "    </tr>\n",
       "    <tr>\n",
       "      <th>5</th>\n",
       "      <td>6</td>\n",
       "      <td>0.510058</td>\n",
       "    </tr>\n",
       "    <tr>\n",
       "      <th>6</th>\n",
       "      <td>7</td>\n",
       "      <td>0.625000</td>\n",
       "    </tr>\n",
       "    <tr>\n",
       "      <th>7</th>\n",
       "      <td>8</td>\n",
       "      <td>0.469376</td>\n",
       "    </tr>\n",
       "    <tr>\n",
       "      <th>8</th>\n",
       "      <td>9</td>\n",
       "      <td>0.383553</td>\n",
       "    </tr>\n",
       "  </tbody>\n",
       "</table>\n",
       "</div>"
      ],
      "text/plain": [
       "   group     label\n",
       "0      1  0.514556\n",
       "1      2  0.456681\n",
       "2      3  0.500000\n",
       "3      4  1.000000\n",
       "4      5  0.500000\n",
       "5      6  0.510058\n",
       "6      7  0.625000\n",
       "7      8  0.469376\n",
       "8      9  0.383553"
      ]
     },
     "execution_count": 144,
     "metadata": {},
     "output_type": "execute_result"
    }
   ],
   "source": [
    "# in each group, what proportion of individuals are employed\n",
    "df.groupby(\"group\")[\"label\"].mean().reset_index()"
   ]
  },
  {
   "cell_type": "markdown",
   "id": "1ae938d8-4e20-4fd7-916b-7f44c105cca8",
   "metadata": {},
   "source": [
    "Next, we examined the sex proportion in each group and visualized it."
   ]
  },
  {
   "cell_type": "code",
   "execution_count": 169,
   "id": "768f8c9a-5e2e-4695-aa9b-15a69c69710d",
   "metadata": {},
   "outputs": [
    {
     "data": {
      "text/plain": [
       "group  SEX\n",
       "1      1.0    21910\n",
       "       2.0    23605\n",
       "2      1.0     1701\n",
       "       2.0     1704\n",
       "3      1.0       31\n",
       "       2.0       35\n",
       "4      1.0        1\n",
       "5      1.0       12\n",
       "       2.0       12\n",
       "6      1.0     1742\n",
       "       2.0     2036\n",
       "7      1.0       10\n",
       "       2.0       14\n",
       "8      1.0      845\n",
       "       2.0      853\n",
       "9      1.0      766\n",
       "       2.0      827\n",
       "dtype: int64"
      ]
     },
     "execution_count": 169,
     "metadata": {},
     "output_type": "execute_result"
    }
   ],
   "source": [
    "# in each group, how many individuals are in each sex\n",
    "df.groupby([\"group\",\"SEX\"]).size()"
   ]
  },
  {
   "cell_type": "code",
   "execution_count": 250,
   "id": "1c4483ee-ba2a-4ddc-a89a-68c55ea5b29c",
   "metadata": {},
   "outputs": [
    {
     "data": {
      "image/png": "[encoded data removed]",
      "text/plain": [
       "<Figure size 640x480 with 1 Axes>"
      ]
     },
     "metadata": {},
     "output_type": "display_data"
    }
   ],
   "source": [
    "# visualize sex proportion in each group\n",
    "sex_count = df.groupby([\"group\",\"SEX\"]).size().reset_index(name = \"n\")\n",
    "\n",
    "# plot\n",
    "ax = sns.barplot(x=\"group\", y=\"n\", hue=\"SEX\", data=sex_count)\n",
    "for i in ax.containers:\n",
    "    ax.bar_label(i,)"
   ]
  },
  {
   "cell_type": "markdown",
   "id": "fc6661d0-883c-4df9-955b-1572777e09f0",
   "metadata": {},
   "source": [
    "As shown in the above figure, the number of males and females in each group is relatively balanced. <br> Next, we explore the employment status for each sex in individual groups."
   ]
  },
  {
   "cell_type": "code",
   "execution_count": null,
   "id": "8e205636-a6e3-467a-acfc-d6d6318e7695",
   "metadata": {},
   "outputs": [
    {
     "data": {
      "text/plain": [
       "group  SEX\n",
       "1      1.0    0.538430\n",
       "       2.0    0.492396\n",
       "2      1.0    0.432099\n",
       "       2.0    0.481221\n",
       "3      1.0    0.354839\n",
       "       2.0    0.628571\n",
       "4      1.0    1.000000\n",
       "5      1.0    0.583333\n",
       "       2.0    0.416667\n",
       "6      1.0    0.552239\n",
       "       2.0    0.473969\n",
       "7      1.0    0.600000\n",
       "       2.0    0.642857\n",
       "8      1.0    0.484024\n",
       "       2.0    0.454865\n",
       "9      1.0    0.356397\n",
       "       2.0    0.408706\n",
       "Name: label, dtype: float64"
      ]
     },
     "execution_count": 173,
     "metadata": {},
     "output_type": "execute_result"
    }
   ],
   "source": [
    "# in each group, what is the proportion of employed individuals in each sex\n",
    "df.groupby([\"group\", \"SEX\"])[\"label\"].mean()"
   ]
  },
  {
   "cell_type": "code",
   "execution_count": 174,
   "id": "1f4faa52-6890-4066-b51e-d8b8c69dc97b",
   "metadata": {},
   "outputs": [
    {
     "data": {
      "image/png": "[encoded data removed]",
      "text/plain": [
       "<Figure size 640x480 with 1 Axes>"
      ]
     },
     "metadata": {},
     "output_type": "display_data"
    }
   ],
   "source": [
    "# plot sex and label in each group\n",
    "proportion = df.groupby([\"group\", \"SEX\"])[\"label\"].mean().reset_index()\n",
    "ax = sns.barplot(x=\"SEX\", y=\"label\", hue=\"group\", data=proportion)\n",
    "for i in ax.containers:\n",
    "    ax.bar_label(i,)"
   ]
  },
  {
   "cell_type": "markdown",
   "id": "285a8d74-ff48-45df-af28-c7018f17e0f0",
   "metadata": {},
   "source": [
    "Here is a summary of the binary sex proportion in employed individuals for each racial group (see above table for specific percentages):\n",
    "\n",
    "    group1: the employment rate is higher in males than females\n",
    "    group2: the employment rate is lower in males than females\n",
    "    group3: the employment rate is lower in males than females\n",
    "    group4: the employment rate is higher in males than females \n",
    "    group5: the employment rate is higher in males than females\n",
    "    group6: the employment rate is higher in males than females\n",
    "    group7: the employment rate is lower in males than females\n",
    "    group8: the employment rate is higher in males than females\n",
    "    group9: the employment rate is lower in males than females \n",
    "\n",
    "As mentioned previously, we will focus on group 1, 2, and 6. \n",
    "In the White alone group, although the employment rate is higher in males than females, the difference is not big (about 5%). In the Black and African American alone group, the employment rate is lower in males than females, but the difference is not that big too (about 5%). In the Asian alone group, the employment rate is higher in males than females, and the percentage differences is slightly larger than the aforementioned two groups, which is about 8%."
   ]
  },
  {
   "cell_type": "markdown",
   "id": "0d5da5b8-3d98-4b68-8b8e-642b01d09e35",
   "metadata": {
    "tags": []
   },
   "source": [
    "### Summary of Basic Descriptives\n",
    "1. How many individuals are in the data?\n",
    "\n",
    "    56104 of these individuals are in the data.\n",
    "\n",
    "2. Of these individuals, what proportion have target label equal to 1? In employment prediction, these would correspond to employed individuals.\n",
    "\n",
    "    51% (28371 individuals) of these individuals are employed\n",
    "\n",
    "3. Of these individuals, how many are in each of the groups? \n",
    "\n",
    "    Of these individuals, \n",
    "    45515 are in group 1 (White alone), \n",
    "    3405 in group 2 (Black or African American alone), \n",
    "    66 in group 3 (American Indian alone), \n",
    "    1 in group 4 (Alaska Native alone), \n",
    "    24 in group 5 (American Indian and Alaska Native tribes specified, or American Indian or Alaska Native, not specified and no other races), \n",
    "    3778 in group 6 (Asian alone), \n",
    "    24 in group 7 (Native Hawaiian and Other Pacific Islander alone), \n",
    "    1698 in group 8 (Some Other Race alone), and \n",
    "    1593 in group 9 (Two or More Races).\n",
    "\n",
    "4. In each group, what proportion of individuals have target label equal to 1?\n",
    "\n",
    "    In group 1, 51.5% of individuals are employed.\n",
    "    In group 2, 45.7% of individuals are employed.\n",
    "    In group 3, 50.% of individuals are employed.\n",
    "    In group 4, 100.0% of individuals are employed.\n",
    "    In group 5, 50.0% of individuals are employed.\n",
    "    In group 6, 51.0% of individuals are employed.\n",
    "    In group 7, 62.5% of individuals are employed.\n",
    "    In group 8, 46.9% of individuals are employed.\n",
    "    In group 9, 38.4% of individuals are employed.\n",
    "\n",
    "5. Check for intersectional trends by studying the proportion of positive target labels broken out by your chosen group labels and an additional group label. For example, if you chose race (RAC1P) as your group, then you could also choose sex (SEX) and compute the proportion of positive labels by both race and sex. This might be a good opportunity to use a visualization such as a bar chart, e.g. via the seaborn package.\n",
    "\n",
    "    Except in group 2, 3, 7, and 9, the employement rate is higher in males than in females."
   ]
  },
  {
   "cell_type": "markdown",
   "id": "2fe7d770-c021-460b-88c8-905de67b6720",
   "metadata": {},
   "source": [
    "## Model Training\n",
    "After getting a sense on the basic descriptives of the dataset, I conducted model traning using the random forest classifier. I used cross-validation to find out the best max depth for the model and plotted the changes of cross-validation score (cvs) with the max depth. The results is shown below."
   ]
  },
  {
   "cell_type": "code",
   "execution_count": 185,
   "id": "2c79b97b-cd30-4f84-a41b-18ab0ffab49e",
   "metadata": {},
   "outputs": [
    {
     "name": "stdout",
     "output_type": "stream",
     "text": [
      "Best depth =  14\n",
      "Max cvs =  0.8343968202604584\n"
     ]
    }
   ],
   "source": [
    "# initialize variables\n",
    "best_depth = 0\n",
    "max_score = 0\n",
    "history = []\n",
    "\n",
    "# find the best depth\n",
    "for d in range(1,30):\n",
    "    # fit the model\n",
    "    rf = RandomForestClassifier(max_depth = d)\n",
    "    rf.fit(X_train, y_train)\n",
    "    \n",
    "    # cross-validation\n",
    "    cv_scores = cross_val_score(rf, X_train, y_train, cv=5)\n",
    "    mean_score = cv_scores.mean()\n",
    "    # print(f\"Depth = {d}, score = {mean_score.round(3)}\")\n",
    "    history.append(mean_score)\n",
    "    \n",
    "    # update the max score and the best depth\n",
    "    if mean_score > max_score:\n",
    "        best_depth = d\n",
    "        max_score = mean_score\n",
    "\n",
    "print(\"Best depth = \", best_depth)\n",
    "print(\"Max cvs = \", max_score)"
   ]
  },
  {
   "cell_type": "code",
   "execution_count": 187,
   "id": "fdec65c7-e8ad-4dc1-9428-c6497e085652",
   "metadata": {},
   "outputs": [
    {
     "data": {
      "text/plain": [
       "Text(0, 0.5, 'CVS')"
      ]
     },
     "execution_count": 187,
     "metadata": {},
     "output_type": "execute_result"
    },
    {
     "data": {
      "image/png": "[encoded data removed]",
      "text/plain": [
       "<Figure size 640x480 with 1 Axes>"
      ]
     },
     "metadata": {},
     "output_type": "display_data"
    }
   ],
   "source": [
    "# plot the history of cvs\n",
    "plt.plot(range(1, 30), history)\n",
    "plt.xlabel(\"Depth\")\n",
    "plt.ylabel(\"CVS\")"
   ]
  },
  {
   "cell_type": "markdown",
   "id": "4b73286e-e99c-4996-b259-c2f5ebcf997e",
   "metadata": {},
   "source": [
    "## Model Auditing\n",
    "In this section, I firstly trained the model using the parameters I found out in the last section. Then, I applied the model on the test dataset and performed an audit for racial biases."
   ]
  },
  {
   "cell_type": "code",
   "execution_count": 189,
   "id": "9c27c36a-5c2e-4d61-b119-8792c1471df5",
   "metadata": {},
   "outputs": [],
   "source": [
    "# train the model and get the predictions\n",
    "rf = RandomForestClassifier(max_depth = best_depth)\n",
    "rf.fit(X_train, y_train)\n",
    "y_hat = rf.predict(X_test)"
   ]
  },
  {
   "cell_type": "markdown",
   "id": "96be3e7e-7c17-4c00-bfa1-dcf6fdcd5567",
   "metadata": {},
   "source": [
    "### Overall Measures\n",
    "First, I took a look at the measures of the entire test dataset, specifically, the positive predictive value (PPV), false negative rate (FNR), and false positive rate (FPR)."
   ]
  },
  {
   "cell_type": "code",
   "execution_count": 191,
   "id": "a64c90b6-10a9-4631-afc5-0e8512f12c5b",
   "metadata": {},
   "outputs": [
    {
     "name": "stdout",
     "output_type": "stream",
     "text": [
      "overall accuracy = 0.8290439865972766\n",
      "PPV = 0.7805332568807339\n",
      "FNR = 0.1373574144486692\n",
      "FPR = 0.1984445884640311\n"
     ]
    }
   ],
   "source": [
    "cm = confusion_matrix(y_test, y_hat)\n",
    "TP, FP, FN, TN = cm[0][0], cm[0][1], cm[1][0], cm[1][1]\n",
    "\n",
    "test_score = rf.score(X_test, y_test)\n",
    "PPV = TP / (TP + FP)\n",
    "FNR = FN / (TP + FN)\n",
    "FPR = FP / (TN + FP)\n",
    "\n",
    "print(f\"overall accuracy = {test_score}\")\n",
    "print(f\"{PPV = }\")\n",
    "print(f\"{FNR = }\")\n",
    "print(f\"{FPR = }\")"
   ]
  },
  {
   "cell_type": "markdown",
   "id": "84cd0993-6530-4632-bf18-997631e5cf39",
   "metadata": {},
   "source": [
    "An overall accuracy of about 83% showed that the model was quite accurate. The FPR is 7% higher than the FNR, indicating that the model is more likely to wrongly predict that someone is employed while this person actually is not, compared to wrongly predicting that someone is not employed while the person actually is."
   ]
  },
  {
   "cell_type": "markdown",
   "id": "2d7b5581-7160-4529-a6aa-12186164247f",
   "metadata": {},
   "source": [
    "### By-group Measures\n",
    "Then, we calculated the same measures as above for individual groups."
   ]
  },
  {
   "cell_type": "code",
   "execution_count": 252,
   "id": "27414763-3711-4241-a6a4-9542e9ecb32f",
   "metadata": {},
   "outputs": [
    {
     "name": "stdout",
     "output_type": "stream",
     "text": [
      "For group 1:\n",
      "    accuracy = 0.8297072957623416\n",
      "    PPV = 0.6929667975722956\n",
      "    FNR = 0.16372253339077983\n",
      "    FPR = 0.25282963398500663\n",
      "\n",
      "For group 2:\n",
      "    accuracy = 0.8252551020408163\n",
      "    PPV = 0.745\n",
      "    FNR = 0.19021739130434784\n",
      "    FPR = 0.24519230769230768\n",
      "\n",
      "For group 3:\n",
      "    accuracy = 0.8823529411764706\n",
      "    PPV = 0.9090909090909091\n",
      "    FNR = 0.0\n",
      "    FPR = 0.14285714285714285\n",
      "\n",
      "For group 5:\n",
      "    accuracy = 0.6\n",
      "    PPV = 0.5\n",
      "    FNR = 0.5\n",
      "    FPR = 0.5714285714285714\n",
      "\n",
      "For group 6:\n",
      "    accuracy = 0.8182807399347116\n",
      "    PPV = 0.5765199161425576\n",
      "    FNR = 0.13522012578616352\n",
      "    FPR = 0.33610648918469216\n",
      "\n",
      "For group 7:\n",
      "    accuracy = 1.0\n",
      "    PPV = 1.0\n",
      "    FNR = 0.0\n",
      "    FPR = 0.0\n",
      "\n",
      "For group 8:\n",
      "    accuracy = 0.8191721132897604\n",
      "    PPV = 0.7322175732217573\n",
      "    FNR = 0.18604651162790697\n",
      "    FPR = 0.26229508196721313\n",
      "\n",
      "For group 9:\n",
      "    accuracy = 0.8597402597402597\n",
      "    PPV = 0.8109243697478992\n",
      "    FNR = 0.1187214611872146\n",
      "    FPR = 0.2710843373493976\n",
      "\n"
     ]
    }
   ],
   "source": [
    "unique_groups = set(group_test)\n",
    "for group in unique_groups:\n",
    "    # Select the data points belonging to the current group\n",
    "    group_mask_test = (group_test == group)\n",
    "    X_group_test, y_group_test = X_test[group_mask_test], y_test[group_mask_test]\n",
    "\n",
    "    # Make predictions on the current group\n",
    "    y_hat = model.predict(X_group_test)\n",
    "\n",
    "    # Calculate and print the accuracy for the current group\n",
    "    test_score = rf.score(X_group_test, y_group_test)\n",
    "    \n",
    "    # calculate PPV, FNR, FPR\n",
    "    cm = confusion_matrix(y_group_test, y_hat)\n",
    "    TP, FP, FN, TN = cm[0][0], cm[0][1], cm[1][0], cm[1][1]\n",
    "\n",
    "    PPV = TP / (TP + FP)\n",
    "    FNR = FN / (TP + FN)\n",
    "    FPR = FP / (TN + FP)\n",
    "    \n",
    "    # calibration\n",
    "    y_group_test[y_hat == 1].mean()\n",
    "    y_group_test[y_hat == 0].mean()\n",
    "    \n",
    "    print(f\"For group {group}:\")    \n",
    "    print(f\"    accuracy = {test_score}\")\n",
    "    print(f\"    {PPV = }\")\n",
    "    print(f\"    {FNR = }\")\n",
    "    print(f\"    {FPR = }\\n\")"
   ]
  },
  {
   "cell_type": "markdown",
   "id": "f8d789ff-5a94-4f93-922f-1151c57fb9c9",
   "metadata": {},
   "source": [
    "Again, we will choose to focus on group 1, 2, and 6. The overall accuracy for these groups are relatively similar. Groups 1 and 2 have similar FNR and FPR too. Group 6 has a lower FNR and a higher FPR compared to the previous two groups. This means that the model is more likely to wrongly predict that an Asian is employed when he/she actually is not, compared to the same situations for white and black people. Meanwhile, the model is less likely to wrongly predict that an Asian is not employed while he/she actually is."
   ]
  },
  {
   "cell_type": "markdown",
   "id": "1710c147-6810-45be-8190-383b4dfc467a",
   "metadata": {},
   "source": [
    "### Bias Measures\n",
    "Lastly, we calculated three different kinds of bias measures based on the paper of Chouldechove (2017)."
   ]
  },
  {
   "cell_type": "markdown",
   "id": "ca4a0d45-6dcc-424c-840c-376f6f452a6f",
   "metadata": {},
   "source": [
    "#### Calibration\n",
    "The first measure is calibration. Based on Chouldechove's research, good calibration for this binary employment classification means that the fraction of predicted employed individuals who actually get employed is the same across groups (2017)."
   ]
  },
  {
   "cell_type": "code",
   "execution_count": 247,
   "id": "0e210bf4-81f3-4a86-ba5e-d492c1645c8b",
   "metadata": {},
   "outputs": [
    {
     "name": "stdout",
     "output_type": "stream",
     "text": [
      "Calibration comparison 1:\n",
      "    For group 1, percentage of actually employed individuals in positively predicted individuals = 0.747\n",
      "    For group 2, percentage of actually employed individuals in positively predicted individuals = 0.755\n",
      "    For group 3, percentage of actually employed individuals in positively predicted individuals = 0.857\n",
      "    For group 5, percentage of actually employed individuals in positively predicted individuals = 0.429\n",
      "    For group 6, percentage of actually employed individuals in positively predicted individuals = 0.664\n",
      "    For group 7, percentage of actually employed individuals in positively predicted individuals = 1.0\n",
      "    For group 8, percentage of actually employed individuals in positively predicted individuals = 0.738\n",
      "    For group 9, percentage of actually employed individuals in positively predicted individuals = 0.729\n",
      "Calibration comparison 2:\n",
      "    For group 1, percentage of actually employed individuals in negatively predicted individuals = 0.164\n",
      "    For group 2, percentage of actually employed individuals in negatively predicted individuals = 0.19\n",
      "    For group 3, percentage of actually employed individuals in negatively predicted individuals = 0.0\n",
      "    For group 5, percentage of actually employed individuals in negatively predicted individuals = 0.5\n",
      "    For group 6, percentage of actually employed individuals in negatively predicted individuals = 0.135\n",
      "    For group 7, percentage of actually employed individuals in negatively predicted individuals = 0.0\n",
      "    For group 8, percentage of actually employed individuals in negatively predicted individuals = 0.186\n",
      "    For group 9, percentage of actually employed individuals in negatively predicted individuals = 0.119\n"
     ]
    }
   ],
   "source": [
    "# get the unique groups\n",
    "unique_groups = set(group_test)\n",
    "\n",
    "# initialize arrays for later printing\n",
    "pred_pos_actu_pos_arr = []\n",
    "pred_neg_actu_pos_arr = []\n",
    "\n",
    "for group in unique_groups:\n",
    "    # select the data points belonging to the current group\n",
    "    group_mask_test = (group_test == group)\n",
    "    X_group_test, y_group_test = X_test[group_mask_test], y_test[group_mask_test]\n",
    "\n",
    "    # make predictions on the current group\n",
    "    y_hat = model.predict(X_group_test)\n",
    "    \n",
    "    # calibration\n",
    "    pred_pos_actu_pos = y_group_test[y_hat == 1].mean()\n",
    "    pred_neg_actu_pos = y_group_test[y_hat == 0].mean()\n",
    "    \n",
    "    pred_pos_actu_pos_arr.append(pred_pos_actu_pos.round(3))\n",
    "    pred_neg_actu_pos_arr.append(pred_neg_actu_pos.round(3))\n",
    "    \n",
    "#     print(f\"For group {group}:\")    \n",
    "#     print(f\"    percentage of actually employed individuals in positively predicted individuals = {pred_pos_actu_pos.round(3)}\")\n",
    "#     print(f\"    percentage of actually employed individuals in negatively predicted individuals = {pred_neg_actu_pos.round(3)}\\n\")\n",
    "    \n",
    "print(\"Calibration comparison 1:\")\n",
    "\n",
    "for i in range(len(FNR_arr)):\n",
    "    print(f\"    For group {list(unique_groups)[i]}, percentage of actually employed individuals in positively predicted individuals = {pred_pos_actu_pos_arr[i]}\")    \n",
    "\n",
    "print(\"Calibration comparison 2:\")\n",
    "for i in range(len(FNR_arr)):\n",
    "    print(f\"    For group {list(unique_groups)[i]}, percentage of actually employed individuals in negatively predicted individuals = {pred_neg_actu_pos_arr[i]}\")    "
   ]
  },
  {
   "cell_type": "markdown",
   "id": "f9154fc5-70bb-4219-85c7-8552f223e7c1",
   "metadata": {},
   "source": [
    "The percentage of actually employed individuals in positively predicted individuals was similar between the groups of blacks and whites but was higher than the Asian group by almost 10%. The percentage of actually employed individuals in negatively predicted individuals was also similar between the groups of whites and blacks (the white group has a slightly lower percentage), and that of the Asian group was lower than both of the previous groups. The results indicated that the model was to certain extent calibrated but also possess biases."
   ]
  },
  {
   "cell_type": "markdown",
   "id": "b650230f-03fd-4264-8139-269c11477f2c",
   "metadata": {},
   "source": [
    "#### Error Rate Balance\n",
    "The second bias measure is the error rate balance. According to Chouldechova's definition, error rate balance is achieved when the false positive and false negative error rates are equal across groups (2017)."
   ]
  },
  {
   "cell_type": "code",
   "execution_count": 243,
   "id": "3645664b-105b-4040-887d-32f6c3483946",
   "metadata": {},
   "outputs": [
    {
     "name": "stdout",
     "output_type": "stream",
     "text": [
      "FNR comparison:\n",
      "    For group 1, FNR = 0.16372253339077983\n",
      "    For group 2, FNR = 0.19021739130434784\n",
      "    For group 3, FNR = 0.0\n",
      "    For group 5, FNR = 0.5\n",
      "    For group 6, FNR = 0.13522012578616352\n",
      "    For group 7, FNR = 0.0\n",
      "    For group 8, FNR = 0.18604651162790697\n",
      "    For group 9, FNR = 0.1187214611872146\n",
      "FPR comparison:\n",
      "    For group 1, FPR = 0.25282963398500663\n",
      "    For group 2, FPR = 0.24519230769230768\n",
      "    For group 3, FPR = 0.14285714285714285\n",
      "    For group 5, FPR = 0.5714285714285714\n",
      "    For group 6, FPR = 0.33610648918469216\n",
      "    For group 7, FPR = 0.0\n",
      "    For group 8, FPR = 0.26229508196721313\n",
      "    For group 9, FPR = 0.2710843373493976\n"
     ]
    }
   ],
   "source": [
    "unique_groups = set(group_test)\n",
    "FNR_arr = []\n",
    "FPR_arr = []\n",
    "\n",
    "for group in unique_groups:\n",
    "    # select the data points belonging to the current group\n",
    "    group_mask_test = (group_test == group)\n",
    "    X_group_test, y_group_test = X_test[group_mask_test], y_test[group_mask_test]\n",
    "\n",
    "    # make predictions on the current group\n",
    "    y_hat = model.predict(X_group_test)\n",
    "    \n",
    "    # calculate PPV, FNR, FPR\n",
    "    cm = confusion_matrix(y_group_test, y_hat)\n",
    "    TP, FP, FN, TN = cm[0][0], cm[0][1], cm[1][0], cm[1][1]\n",
    "\n",
    "    FNR = FN / (TP + FN)\n",
    "    FPR = FP / (TN + FP)\n",
    "    FNR_arr.append(FNR)\n",
    "    FPR_arr.append(FPR)\n",
    "\n",
    "print(\"FNR comparison:\")\n",
    "for i in range(len(FNR_arr)):\n",
    "    print(f\"    For group {list(unique_groups)[i]}, FNR = {FNR_arr[i]}\")    \n",
    "\n",
    "print(\"FPR comparison:\")\n",
    "for i in range(len(FNR_arr)):\n",
    "    print(f\"    For group {list(unique_groups)[i]}, FPR = {FPR_arr[i]}\")    "
   ]
  },
  {
   "cell_type": "markdown",
   "id": "b93cb733-8809-4bdd-9354-54dee1fe493f",
   "metadata": {},
   "source": [
    "Like previously discussed in the by-group measures, groups 1 and 2 have similar FNR and FPR. Group 6 has a lower FNR and a higher FPR, meaning that the model is more likely to wrongly predict that an Asian is employed when he/she actually is not, compared to the same situations for white and black people. Meanwhile, the model is less likely to wrongly predict that an Asian is not employed while he/she actually is."
   ]
  },
  {
   "cell_type": "markdown",
   "id": "c005394f-f9d3-4cc9-8a65-fd1da27efc03",
   "metadata": {},
   "source": [
    "#### Statistical Parity\n",
    "The last measure is statistical parity. According to Chouldechova, if the proportion of individuals classified as positive (employed) is the same for each group, then statistical parity is achieved (2017). This is represented by the overall positive rate (PR)."
   ]
  },
  {
   "cell_type": "code",
   "execution_count": 234,
   "id": "24a44f2d-9b1b-478b-8a69-50118e3c303b",
   "metadata": {},
   "outputs": [
    {
     "name": "stdout",
     "output_type": "stream",
     "text": [
      "For group 1, PR = 0.489\n",
      "For group 2, PR = 0.51\n",
      "For group 3, PR = 0.647\n",
      "For group 5, PR = 0.533\n",
      "For group 6, PR = 0.519\n",
      "For group 7, PR = 0.333\n",
      "For group 8, PR = 0.521\n",
      "For group 9, PR = 0.618\n"
     ]
    }
   ],
   "source": [
    "unique_groups = set(group_test)\n",
    "for group in unique_groups:\n",
    "    # select the data points belonging to the current group\n",
    "    group_mask_test = (group_test == group)\n",
    "    X_group_test, y_group_test = X_test[group_mask_test], y_test[group_mask_test]\n",
    "\n",
    "    # make predictions on the current group\n",
    "    y_hat = model.predict(X_group_test)\n",
    "\n",
    "    # calculate and print the accuracy for the current group\n",
    "    test_score = rf.score(X_group_test, y_group_test)\n",
    "    \n",
    "    # calculate PPV, FNR, FPR\n",
    "    cm = confusion_matrix(y_group_test, y_hat)\n",
    "    TP, FP, FN, TN = cm[0][0], cm[0][1], cm[1][0], cm[1][1]\n",
    "    \n",
    "    # statistical parity\n",
    "    PR = (TP + FP) / (TP+FP+TN+FN)\n",
    "\n",
    "    print(f\"For group {group}, PR = {PR.round(3)}\")    "
   ]
  },
  {
   "cell_type": "markdown",
   "id": "635fd8ff-b0b1-42e4-974a-6737eda02dd5",
   "metadata": {},
   "source": [
    "There is barely difference in PR across groups 1, 2, and 6, indicating that the model exhibits statistical parity in terms of these three groups."
   ]
  },
  {
   "cell_type": "markdown",
   "id": "ca474f85-174b-44ac-8ed0-414903703876",
   "metadata": {},
   "source": [
    "## Concluding Discussion\n",
    "The prediction model for employment status could be used for companies to identify potential candidates for job positions. It could also be used by the government agencies involved in the labor market and policy-making to understand employment trends and design targeted interventions. Non-profit organizations that focus on helping unemployed individuals could also leverage the model to find individuals to help and match them with proper opportunities. Companies could also use this model to predict income levels and design algorithms to give targeted advertisements during internet browsing.\n",
    "\n",
    "Deploying the model without properly adjusting for the biases could result in perpetuating existing stereotypes and disparities in employment outcomes. It could also lead to unequal opportunities and discriminatory decision-making against certain racial groups.\n",
    "\n",
    "Although I displayed results for all the racial groups, I only focused on the white alone, black alone, and Asian alone groups for my bias analysis. My model exhibits moderate calibration biases and error rate imbalance, reinforcing the hard-working Asian stereotype and the opposite stereotype for whites and blacks. For the calibration, it is more likely to predict that a person is employed when he/she actually is in the Asian group compared to the other two groups. It is also less likely to predict that a person is not employed when he/she actually is in the Asian group. For the error rate, the Asian group has a lower FNR and a higher FPR compared to the other two groups, meaning that the model is more likely to wrongly predict that an Asian is employed when he/she actually is not, compared to the same situations for white and black people. Meanwhile, the model is less likely to wrongly predict that an Asian is not employed while he/she actually is.\n",
    "\n",
    "In terms of the three groups I chose to focus on, the model has statistical parity, since the proportion of individuals classified as employed is about the same across these groups.\n",
    "\n",
    "Beyond bias, another concern of deploying my model is private information disclosure. Companies could scrape individuals' demographic information online without their consent, and then use this information to feed the model and make predictions. Regardless of the fact the results do good or harm to these individuals, they did not have any choice in this whole process and would be victims of privacy disclosure. Furthermore, deploying this kind of model without transparency in the algorithms may lead to automated decision-making that gives people a false sense of authority, potentially harming already marginalized groups.\n",
    "\n",
    "To address these problems, the way that the algorithm works should be transparent to the public, allowing an open eye to examine the potential biases the model may cause. In addition, more comprehensive ethical guidelines and regulations for using this kind of system should be further developed, which may include measures such as proving that this algorithm has sufficient emphasis on and corresponding adjustment for its biases. "
   ]
  }
 ],
 "metadata": {
  "kernelspec": {
   "display_name": "Python (ml-0451)",
   "language": "python",
   "name": "ml-0451"
  },
  "language_info": {
   "codemirror_mode": {
    "name": "ipython",
    "version": 3
   },
   "file_extension": ".py",
   "mimetype": "text/x-python",
   "name": "python",
   "nbconvert_exporter": "python",
   "pygments_lexer": "ipython3",
   "version": "3.9.16"
  }
 },
 "nbformat": 4,
 "nbformat_minor": 5
}
