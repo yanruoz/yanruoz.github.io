{
 "cells": [
  {
   "cell_type": "markdown",
   "metadata": {},
   "source": [
    "# CSCI 0451: Mid-Course Reflection\n",
    "\n",
    "Yanruo (Alice) Zhang"
   ]
  },
  {
   "cell_type": "markdown",
   "metadata": {},
   "source": [
    "## The Data\n",
    "\n",
    "*In this section I'll ask you to fill in some data. You don't have to give precise numbers -- approximate, conversational responses are fine. For example, when I ask \"how often have you attended class,\" good answers include \"almost always,\" \"I've missed three times,\" \"about 75% of the time,\" \"not as often as I want,\" etc.* \n",
    "\n",
    "### Presence in Class\n",
    "\n",
    "- *How often have you attended class? (e.g. \"almost always,\" \"I missed three times,\" etc.)*  <u>every class</u>\n",
    "- *How often have you taken notes on the core readings ahead of the class period?* <u>I have taken notes for about three readings</u>\n",
    "- *How often have you been **prepared** to present the daily warm-up exercise to your team, even if you weren't actually called?* <u>I am prepared every time</u>\n",
    "- *How many times have you **actually** presented the daily warm-up to your team?* <u>whenever it was my turn or when everybody presented</u>\n",
    "- *How many times have you asked your team for help while presenting the daily warm-up?* <u>for about 25% of the times I will propose some questions in mind to the whole group</u>\n",
    "- *How often have you learned something new from a teammate's presentation of the daily warm-up?* <u>about 75% of the time (more concise ways of coding, new ideas, etc.)</u>\n",
    "- *How often have you helped a teammate during the daily warm-up presentation?* <u>every one in my group did their job well, and I only participated in discussions when needed</u>\n",
    "\n",
    "### Presence Outside of Class \n",
    "\n",
    "- *How often have you attended Student Hours or Peer Help?* <u>about once every week</u>\n",
    "- *How often have you asked for or received help from your fellow students?* <u>about once or twice for every blog post whenever I am stuck</u>\n",
    "- *Have you been regularly participating in a study group outside class?* <u>yes, at least once every blog post</u>\n",
    "- *How often have you posted questions or answers in Slack?* <u>never...</u>\n",
    "\n",
    "### Assignments and Effort\n",
    "\n",
    "- *How many blog posts have you submitted?* <u>4</u>\n",
    "- *How many of your submitted blog posts are at each of the following feedback stages?*\n",
    "    - *No revisions suggested:* <u>2</u>\n",
    "    - *Revisions useful:* <u></u>\n",
    "    - *Revisions encouraged:* <u></u>\n",
    "    - *Incomplete:* <u></u>\n",
    "- *Roughly how many hours per week have you spent on this course outside of class?* <u>8</u>\n"
   ]
  },
  {
   "cell_type": "markdown",
   "metadata": {},
   "source": [
    "## What You've Learned\n",
    "\n",
    "*At the beginning of the course, you may have expressed an interest in focusing a little extra on one or two of the following four categories:* \n",
    "\n",
    "- ***Theory***: *mathematical descriptions of frameworks and algorithms.*\n",
    "- ***Implementation***: *effective coding and use of tools in order to implement efficient machine learning algorithms.*\n",
    "- ***Experimentation***: *performing experiments to assess the performance of algorithms and clearly communicating about the results.*\n",
    "- ***Social responsibility***: *critical analysis of sources of bias and harm in machine learning algorithms; theoretical formulations of fairness and bias*\n",
    "\n",
    "*Did you choose to focus on any of these categories? If so, what have you done in order to pursue your interest?*    "
   ]
  },
  {
   "cell_type": "markdown",
   "metadata": {},
   "source": [
    "I chose to focus on Implementation and Experimentation. For Implementation, I learned many python toolkits to visualize, organize, and process data. Although I could not memorize them, I have practiced how to use them and know how to find them when needed. I also learned effective coding from my peers during warm-up discussions. However, for review purposes, I think maybe it is useful to organize a chart to jog down what kind of packages are used for what. For Experimentation, I focused on assessing the performance of various algorithms in blog post assignments. For example, I chose the Penguin blog post over the theoretical one and did optional work such as fitting with multiple algorithms and testing their accuracy. In terms of communicating the results, I explored data visualization that is not mentioned in our lectures, such as the pair plot to investigate the correlations between pairs of variables. "
   ]
  },
  {
   "cell_type": "markdown",
   "metadata": {},
   "source": [
    "## Reflecting on Goals\n",
    "\n",
    "*For each of the categories below, replace the \"[your response here]\" cell with 1-2 paragraphs in which you reflect on the following questions:* \n",
    "\n",
    "- *In what ways are you **on track to meet your goals** from the beginning of the course? Be specific: explain what the goal is and what you are doing in order to meet it.* \n",
    "- *In what ways are you **not on track to meet your goals** from the beginning of the course? Be specific: explain what the goal is and what gap you see between where you are and your goal.* \n",
    "- *If there's any **context** you want to share about how you are faring relative to your goals, please do!*\n",
    "\n",
    "### Blog Posts"
   ]
  },
  {
   "cell_type": "markdown",
   "metadata": {},
   "source": [
    "These were my goals:\n",
    "- Submit most blog posts (missing 1 or 2 due to special circumstances is bearable).\n",
    "- Start early for every blog post (within 2 days after the posted day).\n",
    "- Submit the first draft of no more than 3 blog posts after the “best-by” date.\n",
    "- Revise at least half of the blog posts to the “No Revisions Suggested” level.\n",
    "- Propose and complete an additional blog post on an algorithm related to deep learning in bioinformatics, preferably psychiatric genetics.\n",
    "\n",
    "For most of the goals, although falling a bit behind time-wise, I consider myself on track.\n",
    "- For the goal of submitting most blog posts, I have submitted 4 out of 6 so far, and I plan to catch up for at least 1 more this week and next week. \n",
    "- For the goal of starting early (within 2 days after the posted day), I did manage to stay on track for most of the posts except the one posted on Mar 15 (Limits of quantitative methods/Auditing allocative bias). \n",
    "- For the goal of submitting the first draft of no more than 3 blog posts after the \"best-by\" date, I have submitted 3 blog posts before the \"best-by\" date, meaning that I have used 1/3 of my quota before reaching the middle point. However, I do not think I could finish the Mar 15 one on time. \n",
    "- The blog I had feedback on requires no revision, so I am on track to meet the goal of revising at least half of the blog posts to the “No Revisions Suggested” level.\n",
    "\n",
    "The one goal that I don't think I could be on track is proposing and completing an additional blog post on an algorithm related to deep learning in bioinformatics, preferably psychiatric genetics. Due to huge size of genomic data and a lack of understanding to the domain knowledge (hundreds or thousands of individual genomic data would be around 500 GB; not sure how we could do anything interesting with summary statistics), I also decided not to do my project on psychiatric genetics. It is unfortunate that I could not use this class to explore my interest in this field in terms of the blog post and the project. To compensate, I might invest some time in researching and implementing related algorithms, but this might not be a priority and only a plus due to the workload I have."
   ]
  },
  {
   "cell_type": "markdown",
   "metadata": {},
   "source": [
    "### Course Presence (Participation)"
   ]
  },
  {
   "cell_type": "markdown",
   "metadata": {},
   "source": [
    "I am completely on track for the following three goals:\n",
    "- Complete all core readings, take reading notes when needed, and read lecture notes prior to each class.\n",
    "- Attend study group to work with at least one other student at least once for each assignment.\n",
    "- Spend no longer than 2 hours on each warm-up.\n",
    "\n",
    "I am falling behind on these two goals:\n",
    "- For reviewing self-taken notes, lecture notes, and important sections of the readings within a day after each class, I have done 50% of the review for the lectures and not the rest. Writing this reflection makes me realize how much I value timely review, and thus will try to catch up for the remaining weeks.\n",
    "- For posting at least one question, and trying to answer at least one question in Slack, I have not posted or answered any questions so far because most of my questions are solved in TA hours and classmate discussions.\n"
   ]
  },
  {
   "cell_type": "markdown",
   "metadata": {},
   "source": [
    "### Project "
   ]
  },
  {
   "cell_type": "markdown",
   "metadata": {},
   "source": [
    "I have formed a group and plan to stick to all the deadlines, so I think so far, I am staying on track."
   ]
  },
  {
   "cell_type": "markdown",
   "metadata": {},
   "source": [
    "### Other\n",
    "\n",
    "*Is there anything else that you want to share with me about what you have learned, how you have participated, or what you have achieved in CSCI 0451?*"
   ]
  },
  {
   "cell_type": "markdown",
   "metadata": {},
   "source": [
    "I personally will benifit from a slightly faster pace of the lectures."
   ]
  },
  {
   "cell_type": "markdown",
   "metadata": {},
   "source": [
    "## Grade and Goals\n",
    "\n",
    "*Take 15 minutes to look back on your responses in each of the sections above. Then, state the letter grade that you feel reflects your learning, participation, and achievement in CSCI 0451 **so far**. Here are some soundbytes to help guide your thinking:*\n",
    "\n",
    "### What a Grade Sounds Like\n",
    "\n",
    "*An **A** sounds like:* \n",
    "\n",
    "- *\"I am very proud of my time in this course.\"*\n",
    "- *\"I have grown significantly in multiple ways that matter to me.\"*\n",
    "- *\"I am ready to take the theory, techniques, and ideas of this course into my future classes, projects, hobbies, or career.\"* \n",
    "\n",
    "*A **B** sounds like:* \n",
    "\n",
    "- *\"I had some opportunities to learn more, overall I feel good about my time in this course.\"*\n",
    "- *\"I am able to explain some new things or achieve new tasks.\"*\n",
    "- *\"I can see a few ideas from this course that will be relevant for my future classes, projects, hobbies, or career.\"*\n",
    "\n",
    "*A **C** sounds like:* \n",
    "\n",
    "- *\"I often made a good effort, but I missed many opportunities to get more out of my time in this course.\"*\n",
    "- *\"I might be able to complete some new tasks related to the course content, but only with significant further guidance.\"* \n",
    "- *\"I don't see any ways to take the contents of this course into my future classes, projects, hobbies, or career.\"*\n",
    "\n",
    "*You might find that some of these soundbytes resonate and other's don't! Take some time, see what feels right, and don't be afraid to celebrate your achievements.* "
   ]
  },
  {
   "cell_type": "markdown",
   "metadata": {},
   "source": [
    "> **Upon reflection, I feel that my learning, participation, and achievement in CSCI 0451 (so far) are best reflected by a grade of** A-"
   ]
  },
  {
   "cell_type": "markdown",
   "metadata": {},
   "source": [
    "## (Optional:) How to Improve? \n",
    "\n",
    "*You may feel disappointed by your reflection. Sometimes we don't achieve all our goals -- it happens and it's normal! If you are feeling disappointed by how you've learned, participated, or achieved in CSCI 0451, then feel free to write something about that below. Feel free to just write your feelings. If you have ideas for how to move forward, include those too! We'll talk.* "
   ]
  },
  {
   "cell_type": "markdown",
   "metadata": {},
   "source": [
    "I am a bit disappointed by my reflection. I feel like the material is not that difficult, and that I should have achieved more. Because of my procrastination and seasonal depression, I did not push myself to do more, and that disappoints me. I think setting time aside to simply start working on something and ask for peer supervision might be helpful. Also, I might benefit from going to OH to talk about how to explore ML in bioinformatics in order to make myself feel that I am learning something applicable in another field I love."
   ]
  }
 ],
 "metadata": {
  "kernelspec": {
   "display_name": "Python (ml-0451)",
   "language": "python",
   "name": "ml-0451"
  },
  "language_info": {
   "codemirror_mode": {
    "name": "ipython",
    "version": 3
   },
   "file_extension": ".py",
   "mimetype": "text/x-python",
   "name": "python",
   "nbconvert_exporter": "python",
   "pygments_lexer": "ipython3",
   "version": "3.9.16"
  },
  "vscode": {
   "interpreter": {
    "hash": "debe06cc0f9553f110b64dc3926c05df82dae2145b852c8422b9c04315589dcb"
   }
  }
 },
 "nbformat": 4,
 "nbformat_minor": 4
}
